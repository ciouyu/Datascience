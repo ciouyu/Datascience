{
 "cells": [
  {
   "attachments": {},
   "cell_type": "markdown",
   "id": "076792fd",
   "metadata": {},
   "source": [
    "# IMPORT_FILE"
   ]
  },
  {
   "cell_type": "code",
   "execution_count": 107,
   "metadata": {},
   "outputs": [],
   "source": [
    "import requests\n",
    "import csv\n",
    "import numpy\n",
    "from bs4 import BeautifulSoup\n",
    "import pandas as pd\n",
    "from google.oauth2.service_account import Credentials\n",
    "import pygsheets"
   ]
  },
  {
   "attachments": {},
   "cell_type": "markdown",
   "id": "826fbab3",
   "metadata": {},
   "source": [
    "# DEF  "
   ]
  },
  {
   "cell_type": "code",
   "execution_count": 58,
   "id": "ccc48fb3",
   "metadata": {},
   "outputs": [],
   "source": [
    "def getContent(url):\n",
    "    response = requests.get(url)\n",
    "    soup = BeautifulSoup(response.text, \"html5lib\")\n",
    "    return soup \n",
    "    \n",
    "def writeCSV(filename, dataList):\n",
    "    with open(filename+'.csv', 'w', newline='',encoding='utf-8') as csvfile:\n",
    "        fieldnames = ['major', 'url']\n",
    "        writer = csv.DictWriter(csvfile, fieldnames=fieldnames)\n",
    "        writer.writeheader()\n",
    "        for qa in dataList:\n",
    "            writer.writerow(qa)\n"
   ]
  },
  {
   "cell_type": "code",
   "execution_count": 26,
   "id": "e41a07a9",
   "metadata": {},
   "outputs": [],
   "source": [
    "url = \"https://www.ntnu.edu.tw/static.php?id=colleges\"\n",
    "soup = getContent(url)"
   ]
  },
  {
   "attachments": {},
   "cell_type": "markdown",
   "id": "55a82bd3",
   "metadata": {},
   "source": [
    "# CATCH FILE"
   ]
  },
  {
   "cell_type": "code",
   "execution_count": 117,
   "id": "1dc374c8",
   "metadata": {},
   "outputs": [
    {
     "name": "stdout",
     "output_type": "stream",
     "text": [
      "{'major': '教育學院', 'url': 'https://www.coe.ntnu.edu.tw/'}\n",
      "{'major': '教育學系', 'url': 'https://www.ed.ntnu.edu.tw/'}\n",
      "{'major': '教育心理與輔導學系', 'url': 'https://www.epc.ntnu.edu.tw'}\n",
      "{'major': '社會教育學系', 'url': 'https://www.ace.ntnu.edu.tw/'}\n",
      "{'major': '健康促進與衛生教育學系', 'url': 'https://www.he.ntnu.edu.tw'}\n",
      "{'major': '人類發展與家庭學系', 'url': 'https://www.hdfs.ntnu.edu.tw/'}\n",
      "{'major': '公民教育與活動領導學系', 'url': 'http://cve.ntnu.edu.tw/'}\n",
      "{'major': '特殊教育學系', 'url': 'https://www.spe.ntnu.edu.tw'}\n",
      "{'major': '教育學院學士班', 'url': 'https://www.tpicoe.ntnu.edu.tw/'}\n",
      "{'major': '復健諮商研究所', 'url': 'https://www.girc.ntnu.edu.tw'}\n",
      "{'major': '教育政策與行政研究所', 'url': 'https://epa.ed.ntnu.edu.tw/'}\n",
      "{'major': '課程與教學研究所', 'url': 'https://ci.ed.ntnu.edu.tw'}\n",
      "{'major': '創造力發展碩士在職專班', 'url': 'https://www.cd.ntnu.edu.tw'}\n",
      "{'major': '成癮防制碩士在職學位學程', 'url': 'https://www.cappr.ntnu.edu.tw/'}\n",
      "{'major': '學習資訊專業學院', 'url': 'http://www.sli.ntnu.edu.tw/ '}\n",
      "{'major': '學習科學學士學位學程', 'url': 'https://www.upls.ntnu.edu.tw/'}\n",
      "{'major': '圖書資訊學研究所', 'url': 'https://www.glis.ntnu.edu.tw'}\n",
      "{'major': '資訊教育研究所', 'url': 'https://www.ice.ntnu.edu.tw/'}\n",
      "{'major': '理學院', 'url': 'https://www.cos.ntnu.edu.tw/'}\n",
      "{'major': '數學系', 'url': 'https://www.math.ntnu.edu.tw/'}\n",
      "{'major': '物理學系', 'url': 'https://www2.phy.ntnu.edu.tw/'}\n",
      "{'major': '化學系', 'url': 'https://www.chem.ntnu.edu.tw/'}\n",
      "{'major': '地球科學系', 'url': 'https://www.es.ntnu.edu.tw/'}\n",
      "{'major': '(含海環所)', 'url': 'https://www.mest.ntnu.edu.tw/'}\n",
      "{'major': '資訊工程學系', 'url': 'https://www.csie.ntnu.edu.tw/'}\n",
      "{'major': '科學教育研究所', 'url': 'https://www.gise.ntnu.edu.tw/'}\n",
      "{'major': '環境教育研究所', 'url': 'https://www.giee.ntnu.edu.tw/'}\n",
      "{'major': '生命科學專業學院', 'url': 'https://www.biol.ntnu.edu.tw/'}\n",
      "{'major': '生命科學系', 'url': 'https://www.biol.ntnu.edu.tw/'}\n",
      "{'major': '營養科學學士學位學程', 'url': 'http://www.nutrition.ntnu.edu.tw'}\n",
      "{'major': '營養科學碩士學位學程', 'url': 'http://www.nutrition.ntnu.edu.tw'}\n",
      "{'major': '生技醫藥產業碩士學位學程', 'url': 'http://www.biol.ntnu.edu.tw/'}\n",
      "{'major': '生物多樣性國際研究生博士學位學程', 'url': 'https://tigp-biodiv.biodiv.tw/'}\n",
      "{'major': '文學院', 'url': 'https://www.cla.ntnu.edu.tw/'}\n",
      "{'major': '國文學系', 'url': 'https://www.ch.ntnu.edu.tw/'}\n",
      "{'major': '英語學系', 'url': 'https://www.eng.ntnu.edu.tw/'}\n",
      "{'major': '歷史學系', 'url': 'https://www.his.ntnu.edu.tw/'}\n",
      "{'major': '地理學系', 'url': 'https://www.geo.ntnu.edu.tw/'}\n",
      "{'major': '臺灣語文學系', 'url': 'https://www.tcll.ntnu.edu.tw'}\n",
      "{'major': '翻譯研究所', 'url': 'https://www.giti.ntnu.edu.tw/'}\n",
      "{'major': '臺灣史研究所', 'url': 'https://www.taih.ntnu.edu.tw/'}\n",
      "{'major': '科技與工程學院', 'url': 'https://www.cot.ntnu.edu.tw/'}\n",
      "{'major': '工業教育學系', 'url': 'https://www.ie.ntnu.edu.tw/'}\n",
      "{'major': '科技應用與人力資源發展學系', 'url': 'https://www.tahrd.ntnu.edu.tw/'}\n",
      "{'major': '圖文傳播學系', 'url': 'https://www.gac.ntnu.edu.tw/'}\n",
      "{'major': '機電工程學系', 'url': 'https://www.me.ntnu.edu.tw/'}\n",
      "{'major': '電機工程學系', 'url': 'https://www.ee.ntnu.edu.tw'}\n",
      "{'major': '車輛與能源工程學士學位學程', 'url': 'https://en.vee.ntnu.edu.tw/index.php/zh/index/'}\n",
      "{'major': '光電工程學士學位學程', 'url': 'https://www.ieo.ntnu.edu.tw'}\n",
      "{'major': '光電工程研究所', 'url': 'https://www.ieo.ntnu.edu.tw'}\n",
      "{'major': '藝術學院', 'url': 'https://arts.ntnu.edu.tw/'}\n",
      "{'major': '美術學系', 'url': 'https://www.art.ntnu.edu.tw'}\n",
      "{'major': '設計學系', 'url': 'https://design.ntnu.edu.tw/'}\n",
      "{'major': '藝術史研究所', 'url': 'https://arthistory.ntnu.edu.tw/'}\n",
      "{'major': '運動與休閒學院', 'url': 'https://www.csr.ntnu.edu.tw/'}\n",
      "{'major': '體育與運動科學系', 'url': 'https://www.pe.ntnu.edu.tw'}\n",
      "{'major': '運動競技學系', 'url': 'https://www.ap.ntnu.edu.tw'}\n",
      "{'major': '運動休閒與餐旅管理研究所', 'url': 'https://www.slhm.ntnu.edu.tw/'}\n",
      "{'major': '樂活產業高階經理人碩士在職專班(LOHAS-EMBA)', 'url': 'https://www.csremba.ntnu.edu.tw'}\n",
      "{'major': '音樂學院', 'url': 'https://www.musicollege.ntnu.edu.tw/'}\n",
      "{'major': '音樂學系', 'url': 'https://www.music.ntnu.edu.tw'}\n",
      "{'major': '表演藝術學士學位學程', 'url': 'https://www.bdppa.ntnu.edu.tw'}\n",
      "{'major': '表演藝術研究所 ', 'url': 'https://www.gipa.ntnu.edu.tw'}\n",
      "{'major': '民族音樂研究所', 'url': 'https://www.giem.ntnu.edu.tw'}\n",
      "{'major': '國際與社會科學學院', 'url': 'http://www.ciss.ntnu.edu.tw/'}\n",
      "{'major': '華語文教學系', 'url': 'https://www.tcsl.ntnu.edu.tw'}\n",
      "{'major': '東亞學系', 'url': 'http://www.deas.ntnu.edu.tw'}\n",
      "{'major': '(含政治所)', 'url': 'https://www.politics.ntnu.edu.tw/'}\n",
      "{'major': '大眾傳播研究所', 'url': 'https://www.mcom.ntnu.edu.tw'}\n",
      "{'major': '國際人力資源發展研究所', 'url': 'https://www.ihrd.ntnu.edu.tw'}\n",
      "{'major': '社會工作學研究所', 'url': 'https://www.sw.ntnu.edu.tw'}\n",
      "{'major': '歐洲文化與觀光研究所', 'url': 'https://www.giect.ntnu.edu.tw/'}\n",
      "{'major': '管理學院', 'url': 'https://www.mgt.ntnu.edu.tw/'}\n",
      "{'major': '企業管理學系 ', 'url': 'https://www.ba.ntnu.edu.tw/'}\n",
      "{'major': '管理研究所 ', 'url': 'https://www.mba.ntnu.edu.tw/'}\n",
      "{'major': '全球經營與策略研究所 ', 'url': 'https://www.gbs.ntnu.edu.tw/'}\n",
      "{'major': '高階經理人企業管理碩士在職專班(EMBA) ', 'url': 'http://www.emba.ntnu.edu.tw/'}\n",
      "{'major': '國際時尚高階管理碩士在職專班(GF-EMBA)', 'url': 'https://www.gf.ntnu.edu.tw'}\n",
      "{'major': '其他教學單位', 'url': None}\n",
      "{'major': '教務處共同教育委員會', 'url': 'http://www.aa.ntnu.edu.tw/8intro/super_pages.php?ID=6intro71'}\n",
      "{'major': '師資培育學院', 'url': 'https://tecs.otecs.ntnu.edu.tw/index.aspx'}\n",
      "{'major': '進修推廣學院', 'url': 'https://www.sce.ntnu.edu.tw/'}\n",
      "{'major': '僑生先修部', 'url': 'https://www.nups.ntnu.edu.tw'}\n",
      "{'major': '附屬高級中學', 'url': 'https://www.hs.ntnu.edu.tw/'}\n",
      "{'major': '國語教學中心', 'url': 'https://mtc.ntnu.edu.tw/'}\n",
      "{'major': '法語教學中心', 'url': 'https://www.frcenter.ntnu.edu.tw/'}\n"
     ]
    }
   ],
   "source": [
    "links = soup.find('div' , id='static_page')\n",
    "lis = links.find_all('a')\n",
    "ntnulist=[]\n",
    "for name in lis:\n",
    "    list={}\n",
    "    list['major'] = name.getText()\n",
    "    list['url'] = name.get('href')\n",
    "    print(list)\n",
    "    ntnulist.append(list)\n"
   ]
  },
  {
   "attachments": {},
   "cell_type": "markdown",
   "id": "91d67061",
   "metadata": {},
   "source": [
    "# CSV file"
   ]
  },
  {
   "cell_type": "code",
   "execution_count": 118,
   "id": "912377df",
   "metadata": {},
   "outputs": [
    {
     "name": "stdout",
     "output_type": "stream",
     "text": [
      "[{'major': '教育學院', 'url': 'https://www.coe.ntnu.edu.tw/'}, {'major': '教育學系', 'url': 'https://www.ed.ntnu.edu.tw/'}, {'major': '教育心理與輔導學系', 'url': 'https://www.epc.ntnu.edu.tw'}, {'major': '社會教育學系', 'url': 'https://www.ace.ntnu.edu.tw/'}, {'major': '健康促進與衛生教育學系', 'url': 'https://www.he.ntnu.edu.tw'}, {'major': '人類發展與家庭學系', 'url': 'https://www.hdfs.ntnu.edu.tw/'}, {'major': '公民教育與活動領導學系', 'url': 'http://cve.ntnu.edu.tw/'}, {'major': '特殊教育學系', 'url': 'https://www.spe.ntnu.edu.tw'}, {'major': '教育學院學士班', 'url': 'https://www.tpicoe.ntnu.edu.tw/'}, {'major': '復健諮商研究所', 'url': 'https://www.girc.ntnu.edu.tw'}, {'major': '教育政策與行政研究所', 'url': 'https://epa.ed.ntnu.edu.tw/'}, {'major': '課程與教學研究所', 'url': 'https://ci.ed.ntnu.edu.tw'}, {'major': '創造力發展碩士在職專班', 'url': 'https://www.cd.ntnu.edu.tw'}, {'major': '成癮防制碩士在職學位學程', 'url': 'https://www.cappr.ntnu.edu.tw/'}, {'major': '學習資訊專業學院', 'url': 'http://www.sli.ntnu.edu.tw/ '}, {'major': '學習科學學士學位學程', 'url': 'https://www.upls.ntnu.edu.tw/'}, {'major': '圖書資訊學研究所', 'url': 'https://www.glis.ntnu.edu.tw'}, {'major': '資訊教育研究所', 'url': 'https://www.ice.ntnu.edu.tw/'}, {'major': '理學院', 'url': 'https://www.cos.ntnu.edu.tw/'}, {'major': '數學系', 'url': 'https://www.math.ntnu.edu.tw/'}, {'major': '物理學系', 'url': 'https://www2.phy.ntnu.edu.tw/'}, {'major': '化學系', 'url': 'https://www.chem.ntnu.edu.tw/'}, {'major': '地球科學系', 'url': 'https://www.es.ntnu.edu.tw/'}, {'major': '(含海環所)', 'url': 'https://www.mest.ntnu.edu.tw/'}, {'major': '資訊工程學系', 'url': 'https://www.csie.ntnu.edu.tw/'}, {'major': '科學教育研究所', 'url': 'https://www.gise.ntnu.edu.tw/'}, {'major': '環境教育研究所', 'url': 'https://www.giee.ntnu.edu.tw/'}, {'major': '生命科學專業學院', 'url': 'https://www.biol.ntnu.edu.tw/'}, {'major': '生命科學系', 'url': 'https://www.biol.ntnu.edu.tw/'}, {'major': '營養科學學士學位學程', 'url': 'http://www.nutrition.ntnu.edu.tw'}, {'major': '營養科學碩士學位學程', 'url': 'http://www.nutrition.ntnu.edu.tw'}, {'major': '生技醫藥產業碩士學位學程', 'url': 'http://www.biol.ntnu.edu.tw/'}, {'major': '生物多樣性國際研究生博士學位學程', 'url': 'https://tigp-biodiv.biodiv.tw/'}, {'major': '文學院', 'url': 'https://www.cla.ntnu.edu.tw/'}, {'major': '國文學系', 'url': 'https://www.ch.ntnu.edu.tw/'}, {'major': '英語學系', 'url': 'https://www.eng.ntnu.edu.tw/'}, {'major': '歷史學系', 'url': 'https://www.his.ntnu.edu.tw/'}, {'major': '地理學系', 'url': 'https://www.geo.ntnu.edu.tw/'}, {'major': '臺灣語文學系', 'url': 'https://www.tcll.ntnu.edu.tw'}, {'major': '翻譯研究所', 'url': 'https://www.giti.ntnu.edu.tw/'}, {'major': '臺灣史研究所', 'url': 'https://www.taih.ntnu.edu.tw/'}, {'major': '科技與工程學院', 'url': 'https://www.cot.ntnu.edu.tw/'}, {'major': '工業教育學系', 'url': 'https://www.ie.ntnu.edu.tw/'}, {'major': '科技應用與人力資源發展學系', 'url': 'https://www.tahrd.ntnu.edu.tw/'}, {'major': '圖文傳播學系', 'url': 'https://www.gac.ntnu.edu.tw/'}, {'major': '機電工程學系', 'url': 'https://www.me.ntnu.edu.tw/'}, {'major': '電機工程學系', 'url': 'https://www.ee.ntnu.edu.tw'}, {'major': '車輛與能源工程學士學位學程', 'url': 'https://en.vee.ntnu.edu.tw/index.php/zh/index/'}, {'major': '光電工程學士學位學程', 'url': 'https://www.ieo.ntnu.edu.tw'}, {'major': '光電工程研究所', 'url': 'https://www.ieo.ntnu.edu.tw'}, {'major': '藝術學院', 'url': 'https://arts.ntnu.edu.tw/'}, {'major': '美術學系', 'url': 'https://www.art.ntnu.edu.tw'}, {'major': '設計學系', 'url': 'https://design.ntnu.edu.tw/'}, {'major': '藝術史研究所', 'url': 'https://arthistory.ntnu.edu.tw/'}, {'major': '運動與休閒學院', 'url': 'https://www.csr.ntnu.edu.tw/'}, {'major': '體育與運動科學系', 'url': 'https://www.pe.ntnu.edu.tw'}, {'major': '運動競技學系', 'url': 'https://www.ap.ntnu.edu.tw'}, {'major': '運動休閒與餐旅管理研究所', 'url': 'https://www.slhm.ntnu.edu.tw/'}, {'major': '樂活產業高階經理人碩士在職專班(LOHAS-EMBA)', 'url': 'https://www.csremba.ntnu.edu.tw'}, {'major': '音樂學院', 'url': 'https://www.musicollege.ntnu.edu.tw/'}, {'major': '音樂學系', 'url': 'https://www.music.ntnu.edu.tw'}, {'major': '表演藝術學士學位學程', 'url': 'https://www.bdppa.ntnu.edu.tw'}, {'major': '表演藝術研究所 ', 'url': 'https://www.gipa.ntnu.edu.tw'}, {'major': '民族音樂研究所', 'url': 'https://www.giem.ntnu.edu.tw'}, {'major': '國際與社會科學學院', 'url': 'http://www.ciss.ntnu.edu.tw/'}, {'major': '華語文教學系', 'url': 'https://www.tcsl.ntnu.edu.tw'}, {'major': '東亞學系', 'url': 'http://www.deas.ntnu.edu.tw'}, {'major': '(含政治所)', 'url': 'https://www.politics.ntnu.edu.tw/'}, {'major': '大眾傳播研究所', 'url': 'https://www.mcom.ntnu.edu.tw'}, {'major': '國際人力資源發展研究所', 'url': 'https://www.ihrd.ntnu.edu.tw'}, {'major': '社會工作學研究所', 'url': 'https://www.sw.ntnu.edu.tw'}, {'major': '歐洲文化與觀光研究所', 'url': 'https://www.giect.ntnu.edu.tw/'}, {'major': '管理學院', 'url': 'https://www.mgt.ntnu.edu.tw/'}, {'major': '企業管理學系 ', 'url': 'https://www.ba.ntnu.edu.tw/'}, {'major': '管理研究所 ', 'url': 'https://www.mba.ntnu.edu.tw/'}, {'major': '全球經營與策略研究所 ', 'url': 'https://www.gbs.ntnu.edu.tw/'}, {'major': '高階經理人企業管理碩士在職專班(EMBA) ', 'url': 'http://www.emba.ntnu.edu.tw/'}, {'major': '國際時尚高階管理碩士在職專班(GF-EMBA)', 'url': 'https://www.gf.ntnu.edu.tw'}, {'major': '其他教學單位', 'url': None}, {'major': '教務處共同教育委員會', 'url': 'http://www.aa.ntnu.edu.tw/8intro/super_pages.php?ID=6intro71'}, {'major': '師資培育學院', 'url': 'https://tecs.otecs.ntnu.edu.tw/index.aspx'}, {'major': '進修推廣學院', 'url': 'https://www.sce.ntnu.edu.tw/'}, {'major': '僑生先修部', 'url': 'https://www.nups.ntnu.edu.tw'}, {'major': '附屬高級中學', 'url': 'https://www.hs.ntnu.edu.tw/'}, {'major': '國語教學中心', 'url': 'https://mtc.ntnu.edu.tw/'}, {'major': '法語教學中心', 'url': 'https://www.frcenter.ntnu.edu.tw/'}]\n"
     ]
    }
   ],
   "source": [
    "print(ntnulist)\n",
    "writeCSV('test',ntnulist)"
   ]
  },
  {
   "attachments": {},
   "cell_type": "markdown",
   "id": "9fa408f3",
   "metadata": {},
   "source": [
    "# Write in google sheet"
   ]
  },
  {
   "cell_type": "code",
   "execution_count": 119,
   "id": "da523079",
   "metadata": {},
   "outputs": [],
   "source": [
    "gc = pygsheets.authorize(service_account_file='key.json')\n",
    "\n",
    "sheet = gc.open_by_url('https://docs.google.com/spreadsheets/d/1yxOOuQYgyZOQHvNpCUyMQuWbOxUcn3OLXhNMZ3sFoIc/edit#gid=0')\n",
    "\n",
    "ws = sheet.worksheet_by_title(\"test1\")\n",
    "\n",
    "df = pd.read_csv('test.csv')\n",
    "\n",
    "\n",
    "ws.set_dataframe(df,'A1',copy_index=True, nan=' ')\n",
    "#df.columns.values.tolist()\n",
    "#df.values.tolist()\n"
   ]
  }
 ],
 "metadata": {
  "kernelspec": {
   "display_name": "Python 3.8.8 ('base')",
   "language": "python",
   "name": "python3"
  },
  "language_info": {
   "codemirror_mode": {
    "name": "ipython",
    "version": 3
   },
   "file_extension": ".py",
   "mimetype": "text/x-python",
   "name": "python",
   "nbconvert_exporter": "python",
   "pygments_lexer": "ipython3",
   "version": "3.8.8"
  },
  "vscode": {
   "interpreter": {
    "hash": "ad2bdc8ecc057115af97d19610ffacc2b4e99fae6737bb82f5d7fb13d2f2c186"
   }
  }
 },
 "nbformat": 4,
 "nbformat_minor": 5
}
